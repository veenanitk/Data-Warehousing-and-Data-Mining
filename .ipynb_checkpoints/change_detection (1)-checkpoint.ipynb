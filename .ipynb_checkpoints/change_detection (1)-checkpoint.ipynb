{
 "cells": [
  {
   "cell_type": "markdown",
   "metadata": {},
   "source": [
    "# IMPORTS"
   ]
  },
  {
   "cell_type": "code",
   "execution_count": null,
   "metadata": {},
   "outputs": [],
   "source": [
    "from matplotlib import *\n",
    "import numpy as np\n",
    "from skimage import io, filters, feature\n",
    "from skimage.color import rgb2gray\n",
    "from sklearn.decomposition import PCA\n",
    "import imageio\n",
    "% matplotlib inline"
   ]
  },
  {
   "cell_type": "code",
   "execution_count": null,
   "metadata": {},
   "outputs": [],
   "source": [
    "import numpy as np"
   ]
  },
  {
   "cell_type": "markdown",
   "metadata": {},
   "source": [
    "Little trick to list package versions"
   ]
  },
  {
   "cell_type": "code",
   "execution_count": null,
   "metadata": {},
   "outputs": [],
   "source": [
    "!pip show scikit-image|grep Version"
   ]
  },
  {
   "cell_type": "code",
   "execution_count": null,
   "metadata": {},
   "outputs": [],
   "source": [
    "!pip show scikit-learn|grep Version"
   ]
  },
  {
   "cell_type": "code",
   "execution_count": null,
   "metadata": {},
   "outputs": [],
   "source": [
    "!pip show numpy|grep Version"
   ]
  },
  {
   "cell_type": "markdown",
   "metadata": {},
   "source": [
    "# Change Detection Function"
   ]
  },
  {
   "cell_type": "code",
   "execution_count": null,
   "metadata": {},
   "outputs": [],
   "source": [
    "# image1 = io.imread('awifs_ndvi_201701_15_1_clipped.tif')\n",
    "# image2 = io.imread('awifs_ndvi_201707_15_1_clipped.tif')\n",
    "def function(image1,image2,imagename,flag):\n",
    "    diff_image = abs(image1-image2)\n",
    "#     print(diff_image.shape)\n",
    "    fig_width = 20\n",
    "    fig_height = 8\n",
    "\n",
    "    f, (ax1, ax2, ax3) = plt.subplots(1, 3, figsize=(fig_width, fig_height))\n",
    "    if flag:\n",
    "        ax1.imshow(image1, cmap=\"gray\") \n",
    "        ax2.imshow(image2, cmap=\"gray\") \n",
    "        ax3.imshow(diff_image, cmap=\"hot\"); # crudely calc difference\n",
    "    n_components=100\n",
    "\n",
    "    pca = PCA(n_components=n_components)\n",
    "    pca.fit(diff_image)\n",
    "\n",
    "    diff_image_pca = pca.fit_transform(diff_image)\n",
    "#     print(diff_image_pca.shape)\n",
    "\n",
    "    diff_image_restored = pca.inverse_transform(diff_image_pca)\n",
    "#     print(diff_image_restored.shape)\n",
    "    np.sum(pca.explained_variance_ratio_)\n",
    "    print(f\"The {n_components} components explain {int(np.sum(pca.explained_variance_ratio_) * 100)}% of the variance\")\n",
    "    f, (ax1, ax2) = plt.subplots(1, 2, figsize=(fig_width, fig_height))\n",
    "\n",
    "    if flag:\n",
    "        ax1.imshow(diff_image, cmap=\"gray\")\n",
    "        ax2.imshow(diff_image_restored, cmap=\"gray\"); # crudely calc difference\n",
    "    else:\n",
    "        imageio.imwrite(\"diff_image/\"+imagename+\"diff_image.jpg\",diff_image)\n",
    "        imageio.imwrite(\"diff_image_restored/\"+imagename+\"diff_image_restored.jpg\",diff_image_restored)"
   ]
  },
  {
   "cell_type": "markdown",
   "metadata": {},
   "source": [
    "# Collecting all file names into a array"
   ]
  },
  {
   "cell_type": "code",
   "execution_count": null,
   "metadata": {},
   "outputs": [],
   "source": [
    "import os\n",
    "img_pt_p=r'/Users/venkateshbh/Desktop/satellite-image-deep-learning-master/change_detection/using_pca_and_k_means/Clipped_NDVI'\n",
    "arr=[]\n",
    "for k in os.listdir(r'//Users/venkateshbh/Desktop/satellite-image-deep-learning-master/change_detection/using_pca_and_k_means/Clipped_NDVI'):\n",
    "                    if k=='.DS_Store':\n",
    "                        continue\n",
    "                    print(k)\n",
    "                    arr.append(k)\n",
    "#                     img_pt=img_pt_p+\"/\"+k\n",
    "#                     img = cv2.imread(img_pt)\n",
    "    \n",
    "#                     dim = (width, height)\n",
    "#                     # resize image\n",
    "#                     resized = cv2.resize(img, dim, interpolation = cv2.INTER_AREA)\n",
    "#                     #im_unpre.append(np.array(img).flatten())\n",
    "#                     img_gray = cv2.cvtColor(resized, cv2.COLOR_BGR2GRAY)\n",
    "#                     equ = cv2.equalizeHist(img_gray)\n",
    "#                     equu.append(equ)\n",
    "#                     immatrix.append(img_gray)\n",
    "#                     kk=k[:-5]\n",
    "#                     #print(kk)\n",
    "#                     Y.append(myDict[kk])\n",
    "arr.sort()\n",
    "print(arr)"
   ]
  },
  {
   "cell_type": "markdown",
   "metadata": {},
   "source": [
    "# Change detection function call for all images w.r.t first image"
   ]
  },
  {
   "cell_type": "code",
   "execution_count": null,
   "metadata": {},
   "outputs": [],
   "source": [
    "image1=io.imread('Clipped_NDVI/'+arr[0])\n",
    "for i in range(1,len(arr)):\n",
    "    image2=io.imread('Clipped_NDVI/'+arr[i])\n",
    "    function(image1,image2,str(i),False)\n",
    "    "
   ]
  },
  {
   "cell_type": "code",
   "execution_count": null,
   "metadata": {},
   "outputs": [],
   "source": [
    "image1 = io.imread('awifs_ndvi_201701_15_1_clipped.tif')\n",
    "image2 = io.imread('awifs_ndvi_201707_15_1_clipped.tif')\n",
    "\n",
    "function(image1,image2,str(0),True)"
   ]
  },
  {
   "cell_type": "markdown",
   "metadata": {},
   "source": [
    "# Collecting all Change detected image file names in an array"
   ]
  },
  {
   "cell_type": "code",
   "execution_count": null,
   "metadata": {},
   "outputs": [],
   "source": [
    "brr=[]\n",
    "img_pt_p=r'/Users/venkateshbh/Desktop/satellite-image-deep-learning-master/change_detection/using_pca_and_k_means/diff_image'\n",
    "\n",
    "for k in os.listdir(r'//Users/venkateshbh/Desktop/satellite-image-deep-learning-master/change_detection/using_pca_and_k_means/diff_image'):\n",
    "                    if k=='.DS_Store':\n",
    "                        continue\n",
    "#                     print(k)\n",
    "                    brr.append(k)\n",
    "#                     img_pt=img_pt_p+\"/\"+k\n",
    "#                     img = cv2.imread(img_pt)\n",
    "    \n",
    "#                     dim = (width, height)\n",
    "#                     # resize image\n",
    "#                     resized = cv2.resize(img, dim, interpolation = cv2.INTER_AREA)\n",
    "#                     #im_unpre.append(np.array(img).flatten())\n",
    "#                     img_gray = cv2.cvtColor(resized, cv2.COLOR_BGR2GRAY)\n",
    "#                     equ = cv2.equalizeHist(img_gray)\n",
    "#                     equu.append(equ)\n",
    "#                     immatrix.append(img_gray)\n",
    "#                     kk=k[:-5]\n",
    "#                     #print(kk)\n",
    "#                     Y.append(myDict[kk])\n",
    "brr.sort()\n",
    "# print(brr)"
   ]
  },
  {
   "cell_type": "markdown",
   "metadata": {},
   "source": [
    "# Calculating mean "
   ]
  },
  {
   "cell_type": "code",
   "execution_count": null,
   "metadata": {},
   "outputs": [],
   "source": [
    "means = []\n",
    "for k in range(len(brr)):\n",
    "    image3=io.imread('diff_image/'+brr[k])\n",
    "    sumi = 0\n",
    "    count = 0\n",
    "    for i in range(0,len(image3)):\n",
    "        for j in range(0,len(image3[i])):\n",
    "            count += 1\n",
    "            sumi += image3[i][j]\n",
    "    print(sumi/count)\n",
    "    means.append(sumi/count)\n",
    "    \n",
    "image3.shape"
   ]
  },
  {
   "cell_type": "code",
   "execution_count": null,
   "metadata": {},
   "outputs": [],
   "source": [
    "plt.plot(means)"
   ]
  },
  {
   "cell_type": "markdown",
   "metadata": {},
   "source": [
    "# Plotting smooth graph"
   ]
  },
  {
   "cell_type": "code",
   "execution_count": null,
   "metadata": {},
   "outputs": [],
   "source": [
    "\n",
    "# from scipy.interpolate import spline\n",
    "# import scipy.interpolate.UnivariateSpline\n",
    "# import csaps\n",
    "from scipy.signal import savgol_filter\n",
    "from scipy.signal import argrelextrema\n",
    "from scipy.signal import find_peaks"
   ]
  },
  {
   "cell_type": "code",
   "execution_count": null,
   "metadata": {},
   "outputs": [],
   "source": [
    "import numpy as np\n",
    "import matplotlib.pyplot as plt\n",
    "\n",
    "# x = np.linspace(0,2*np.pi,100)\n",
    "# y = np.sin(x) + np.random.random(100) * 0.2\n",
    "yhat = savgol_filter(means, 25, 5) # window size 51, polynomial order 3\n",
    "peaks, _ = find_peaks(yhat, height=0)\n",
    "\n",
    "plt.plot(means)\n",
    "# print(yhat)\n",
    "plt.plot(yhat, color='red')\n",
    "plt.plot(peaks, yhat[peaks], \"x\")\n",
    "plt.show()\n",
    "\n",
    "\n",
    "\n",
    "# # 300 represents number of points to make between T.min and T.max\n",
    "# xnew = np.linspace(means.min(), means.max(), 300)  \n",
    "\n",
    "# power_smooth = spline(means, xnew)\n",
    "\n",
    "# plt.plot(xnew,power_smooth)\n",
    "# plt.show()"
   ]
  },
  {
   "cell_type": "code",
   "execution_count": null,
   "metadata": {},
   "outputs": [],
   "source": [
    "sortId = np.argsort(yhat)\n",
    "# x = x[sortId]\n",
    "# y = yhat[sortId]\n",
    "\n",
    "# this way the x-axis corresponds to the index of x\n",
    "# plt.plot(x-1, y)\n",
    "plt.show()\n",
    "maxm = argrelextrema(yhat, np.greater)  \n",
    "minm = argrelextrema(yhat, np.less)  \n",
    "print(maxm, minm)\n"
   ]
  },
  {
   "cell_type": "code",
   "execution_count": null,
   "metadata": {},
   "outputs": [],
   "source": [
    "import itertools\n",
    "maxm1=list(itertools.chain(*maxm))\n",
    "minm1=list(itertools.chain(*minm))\n",
    "maxm1"
   ]
  },
  {
   "cell_type": "code",
   "execution_count": null,
   "metadata": {},
   "outputs": [],
   "source": [
    "print(\"Harvest months are  \",((maxm1[0]+1)//2)%12+1,\",\",((maxm1[1]+1)//2)%12+1)"
   ]
  },
  {
   "cell_type": "code",
   "execution_count": null,
   "metadata": {},
   "outputs": [],
   "source": [
    "print(\"Sowing months are  1 \",((minm1[0]+1)//2)%12+1)"
   ]
  },
  {
   "cell_type": "code",
   "execution_count": null,
   "metadata": {},
   "outputs": [],
   "source": [
    "print(\"Crop cycle duration is :\",(maxm1[1]+1)//2-(maxm1[0]+1)//2)"
   ]
  },
  {
   "cell_type": "code",
   "execution_count": null,
   "metadata": {},
   "outputs": [],
   "source": [
    "rate = (yhat[maxm1[0]] - yhat[0]) / (maxm1[0] - 0)\n",
    "print(\"Greenery rate is: \",rate)"
   ]
  },
  {
   "cell_type": "code",
   "execution_count": null,
   "metadata": {},
   "outputs": [],
   "source": [
    "# import itertools\n",
    "# maxm1=list(itertools.chain(*maxm))\n",
    "# minm1=list(itertools.chain(*minm))\n",
    "# maxm1"
   ]
  },
  {
   "cell_type": "code",
   "execution_count": null,
   "metadata": {},
   "outputs": [],
   "source": [
    "# means1 = []\n",
    "# for k in range(len(arr)):\n",
    "#     image3=io.imread('Clipped_NDVI/'+arr[k])\n",
    "#     sumi = 0\n",
    "#     count = 0\n",
    "#     for i in range(0,len(image3)):\n",
    "#         for j in range(0,len(image3[i])):\n",
    "#             count += 1\n",
    "#             sumi += image3[i][j]\n",
    "#     print(sumi/count)\n",
    "#     means1.append(sumi/count)\n",
    "    \n",
    "# # image3.shape"
   ]
  },
  {
   "cell_type": "code",
   "execution_count": null,
   "metadata": {},
   "outputs": [],
   "source": [
    "# plt.plot(means1)"
   ]
  },
  {
   "cell_type": "code",
   "execution_count": null,
   "metadata": {},
   "outputs": [],
   "source": []
  }
 ],
 "metadata": {
  "kernelspec": {
   "display_name": "Python 3",
   "language": "python",
   "name": "python3"
  },
  "language_info": {
   "codemirror_mode": {
    "name": "ipython",
    "version": 3
   },
   "file_extension": ".py",
   "mimetype": "text/x-python",
   "name": "python",
   "nbconvert_exporter": "python",
   "pygments_lexer": "ipython3",
   "version": "3.7.3"
  }
 },
 "nbformat": 4,
 "nbformat_minor": 2
}
